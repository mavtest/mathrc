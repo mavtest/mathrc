{
 "cells": [
  {
   "cell_type": "code",
   "execution_count": 9,
   "metadata": {
    "collapsed": true
   },
   "outputs": [],
   "source": [
    "import numpy as np\n",
    "import matplotlib.pyplot as plt\n",
    "import random\n",
    "import math"
   ]
  },
  {
   "cell_type": "code",
   "execution_count": 2,
   "metadata": {
    "collapsed": false
   },
   "outputs": [],
   "source": [
    "points = list()\n",
    "x = [i for i in range(100)]\n",
    "y = [(2*i)+1 for i in x]\n",
    "for i in range(len(y)):\n",
    "    ran = random.random()\n",
    "    if i/2 == 0:\n",
    "        x[i] = x[i] +(ran*2)\n",
    "    else:\n",
    "        y[i] = y[i] +(ran*2)\n",
    "\n",
    "plt.plot(x,y,'o')\n",
    "plt.show()"
   ]
  },
  {
   "cell_type": "code",
   "execution_count": 3,
   "metadata": {
    "collapsed": false
   },
   "outputs": [],
   "source": [
    "import numpy.linalg as la"
   ]
  },
  {
   "cell_type": "markdown",
   "metadata": {},
   "source": [
    "# Sphere Fitting\n",
    "\n",
    "### IMPORTANT: http://jekel.me/2015/Least-Squares-Sphere-Fit/\n",
    "https://www.google.de/search?q=sphere+fitting+python&ie=utf-8&oe=utf-8&client=firefox-b&gfe_rd=cr&ei=inS_V6T2Mc2N8QemhIzYBQ\n",
    "\n",
    "http://stackoverflow.com/questions/15785428/how-do-i-fit-3d-data\n",
    "\n",
    "### Numerical Python: \n",
    "Chapter 5 (linear least square) and Chapter 6 (nonlinear least square)."
   ]
  },
  {
   "cell_type": "markdown",
   "metadata": {},
   "source": [
    "# Least Squar\n",
    "https://en.wikipedia.org/wiki/Least_squares#Relationship_to_principal_components\n",
    "https://en.wikipedia.org/wiki/Non-linear_least_squares#Singular_value_decomposition"
   ]
  },
  {
   "cell_type": "code",
   "execution_count": 9,
   "metadata": {
    "collapsed": true
   },
   "outputs": [],
   "source": [
    "la.lstsq?"
   ]
  },
  {
   "cell_type": "code",
   "execution_count": 16,
   "metadata": {
    "collapsed": false
   },
   "outputs": [],
   "source": [
    "np.ones?"
   ]
  },
  {
   "cell_type": "code",
   "execution_count": 15,
   "metadata": {
    "collapsed": false
   },
   "outputs": [
    {
     "name": "stdout",
     "output_type": "stream",
     "text": [
      "[[ 1.  1.  1.  1.  1.]\n",
      " [ 1.  1.  1.  1.  1.]]\n",
      "[[ 1.  1.  1.]\n",
      " [ 1.  1.  1.]\n",
      " [ 1.  1.  1.]\n",
      " [ 1.  1.  1.]\n",
      " [ 1.  1.  1.]]\n"
     ]
    }
   ],
   "source": [
    "ones = np.ones((2,5))\n",
    "print ones\n",
    "\n",
    "s = (5,3)\n",
    "ones = np.ones(s)\n",
    "print ones"
   ]
  },
  {
   "cell_type": "code",
   "execution_count": 7,
   "metadata": {
    "collapsed": false
   },
   "outputs": [],
   "source": [
    "#Load Data\n",
    "spX = np.loadtxt('xpoints.txt')\n",
    "spY = np.loadtxt('ypoints.txt')\n",
    "spZ = np.loadtxt('zpoints.txt')"
   ]
  },
  {
   "cell_type": "code",
   "execution_count": 10,
   "metadata": {
    "collapsed": false
   },
   "outputs": [
    {
     "name": "stdout",
     "output_type": "stream",
     "text": [
      "5.0 [ -1.71624642e-15] [ -1.78127499e-15] [ 5.]\n"
     ]
    }
   ],
   "source": [
    "spX = np.array(spX)\n",
    "spY = np.array(spY)\n",
    "spZ = np.array(spZ)\n",
    "A = np.zeros((len(spX),4))\n",
    "A[:,0] = spX*2\n",
    "A[:,1] = spY*2\n",
    "A[:,2] = spZ*2\n",
    "A[:,3] = 1\n",
    "#   Assemble the f matrix\n",
    "f = np.zeros((len(spX),1))\n",
    "f[:,0] = (spX*spX) + (spY*spY) + (spZ*spZ)\n",
    "C, residules, rank, singval = np.linalg.lstsq(A,f)\n",
    "#   solve for the radius\n",
    "t= (C[0]*C[0])+(C[1]*C[1])+(C[2]*C[2])+C[3]\n",
    "radius = math.sqrt(t)\n",
    "print radius, C[0], C[1], C[2]"
   ]
  }
 ],
 "metadata": {
  "kernelspec": {
   "display_name": "Python 2",
   "language": "python",
   "name": "python2"
  },
  "language_info": {
   "codemirror_mode": {
    "name": "ipython",
    "version": 2
   },
   "file_extension": ".py",
   "mimetype": "text/x-python",
   "name": "python",
   "nbconvert_exporter": "python",
   "pygments_lexer": "ipython2",
   "version": "2.7.11"
  }
 },
 "nbformat": 4,
 "nbformat_minor": 0
}
